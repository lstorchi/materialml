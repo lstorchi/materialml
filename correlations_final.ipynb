{
  "cells": [
    {
      "cell_type": "code",
      "execution_count": null,
      "metadata": {
        "id": "DW1Fa3IcmRLO"
      },
      "outputs": [],
      "source": [
        "import pandas as pd\n",
        "import numpy as np\n",
        "import matplotlib.pyplot as plt\n",
        "import seaborn as sns\n",
        "import os\n",
        "\n",
        "DEBUG = False\n",
        "\n",
        "#from google.colab import drive\n",
        "#drive.mount('/content/drive')\n",
        "matedesc_file_path = \"./data/descriptors_template.csv\"\n",
        "atomic_file_path = './data/atomic_properties_uncorr_prova.xlsx'\n",
        "metaedesc_file_path = \"./data/list_structural_descriptors.txt\""
      ]
    },
    {
      "cell_type": "code",
      "execution_count": null,
      "metadata": {
        "id": "FRMVcqkpVQEa"
      },
      "outputs": [],
      "source": [
        "# Load set of uncorrelated structural properties\n",
        "descriptors = pd.read_csv(matedesc_file_path, index_col=0)\n",
        "props = pd.read_excel(atomic_file_path)\n",
        "# Create dict out of Bastien's list of descriptors\n",
        "fp = open(metaedesc_file_path, \"r\")\n",
        "descdetails = {}\n",
        "for l in fp:\n",
        "    k = l.split(\":\")[0].replace(\"\\\"\", \"\")\n",
        "    v = l.split(\":\")[1].replace(\"\\n\", \"\").replace(\"#\", \"\")\n",
        "    descdetails[k] = v\n",
        "fp.close()\n",
        "\n",
        "if DEBUG:\n",
        "    print(descriptors.columns)\n",
        "    print(descriptors.head())\n",
        "    print(descriptors.shape)\n",
        "    print(props.columns)\n",
        "    print(props.head())\n",
        "    print(props.shape)"
      ]
    },
    {
      "cell_type": "code",
      "execution_count": null,
      "metadata": {
        "id": "lwvJ1nn3pufr"
      },
      "outputs": [],
      "source": [
        "# Merge the two sets, creating two sets (A- and B-sites) of atomic\n",
        "# properties for each entry in Bastien's database\n",
        "for index, row in descriptors.iterrows():\n",
        "    # Extract A-site and B-site symbols\n",
        "    a_site_symbol = row['A-site']\n",
        "    b_site_symbol = row['B-site']\n",
        "\n",
        "    # Find corresponding rows in props for A-site and B-site\n",
        "    a_site_props = props[props['symbol'] == a_site_symbol].iloc[0]\n",
        "    b_site_props = props[props['symbol'] == b_site_symbol].iloc[0]\n",
        "\n",
        "    # Append relevant columns from props to descriptors\n",
        "    for col_prefix, site_props in zip(['A_', 'B_'], [a_site_props, b_site_props]):\n",
        "        for prop_col in site_props.index:\n",
        "            if prop_col not in ['symbol', 'name']:  # Avoid adding 'symbol' and 'name' columns\n",
        "                descriptors.at[index, f'{col_prefix}{prop_col}'] = site_props[prop_col]\n",
        "\n",
        "if DEBUG:\n",
        "    print(descriptors.columns)\n",
        "    print()\n",
        "    print(descriptors)"
      ]
    },
    {
      "cell_type": "code",
      "execution_count": null,
      "metadata": {
        "id": "uUmDwdSesAT8"
      },
      "outputs": [],
      "source": [
        "# Recognize non-numeric values\n",
        "nonvalues = ['label_structure', 'composition_pretty', 'A-site', 'B-site']\n",
        "for c in nonvalues:\n",
        "    print(descriptors[c].value_counts())\n",
        "    if DEBUG:\n",
        "        print(descriptors[c].unique())"
      ]
    },
    {
      "cell_type": "code",
      "execution_count": null,
      "metadata": {
        "id": "szyM8gGpsMxj"
      },
      "outputs": [],
      "source": [
        "# Remove constant columns\n",
        "for c in descriptors.columns:\n",
        "    if len(descriptors[c].unique()) == 1:\n",
        "        print(\"Removing constant column: \", c)\n",
        "        descriptors.drop(c, axis=1, inplace=True)"
      ]
    },
    {
      "cell_type": "code",
      "execution_count": null,
      "metadata": {
        "id": "Hb4-_SgBsWg7"
      },
      "outputs": [],
      "source": [
        "corrcut = 0.90\n",
        "tocrrolate = {}\n",
        "for c in descriptors.columns:\n",
        "    if c not in nonvalues:\n",
        "        tocrrolate[c] = descriptors[c].astype(np.float64).values\n",
        "\n",
        "toremove = set()\n",
        "basicdescr = set()\n",
        "tocrrolate = pd.DataFrame(tocrrolate)\n",
        "if DEBUG:\n",
        "    print(tocrrolate)\n",
        "    print()\n",
        "\n",
        "# Compute |correlation matrix| after removal of constant values, to determine what to remove at this stage\n",
        "corr = tocrrolate.corr().abs()\n",
        "pd.set_option('display.max_columns', None)  # Display all columns\n",
        "pd.set_option('display.expand_frame_repr', False)  # Do not wrap DataFrame across multiple lines\n",
        "pd.set_option('display.width', None)  # Adjust width to fit DataFrame\n",
        "if DEBUG:\n",
        "    print(corr)\n",
        "    print()\n",
        "    print()\n",
        "\n",
        "for c in corr.columns:\n",
        "    if DEBUG:\n",
        "        print(c)\n",
        "    basicdescr.add(c)\n",
        "    for cc in corr.columns:\n",
        "        if corr[c][cc] > corrcut and c != cc and  \\\n",
        "           cc not in basicdescr:\n",
        "            if DEBUG:\n",
        "                print(\"\\t %20s %7.3f\"%(cc, corr[c][cc]))\n",
        "            toremove.add(cc)\n",
        "\n",
        "if DEBUG:\n",
        "    print(\"basicdescr: \", basicdescr)\n",
        "    print(\"toremove: \", toremove)\n",
        "\n",
        "# Compute correlation matrix after removal of constant values and plot heatmap\n",
        "corr = tocrrolate.corr()\n",
        "plt.figure(figsize=(18, 12))\n",
        "heatmap = sns.heatmap(corr, annot=True, cmap='coolwarm', fmt=\".1f\",annot_kws={\"size\": 10})\n",
        "heatmap.set_xticklabels(heatmap.get_xticklabels(), rotation=90)  # Rotate labels for better readability\n",
        "heatmap.xaxis.set_ticks_position('top') # Move the x-axis labels to the top\n",
        "plt.title('Correlation Heatmap')\n",
        "plt.show()\n",
        "\n",
        "for v in toremove:\n",
        "    print(\"Removing: %40s\"%( v))\n",
        "\n"
      ]
    },
    {
      "cell_type": "code",
      "execution_count": null,
      "metadata": {
        "id": "oD0EYVykjuVW"
      },
      "outputs": [],
      "source": [
        "# Before further removal: sort properties by max absolute correlation coefficient\n",
        "tocrrolate_numeric = tocrrolate.apply(pd.to_numeric, errors='coerce')\n",
        "property_names = tocrrolate_numeric.columns\n",
        "property_names = list(property_names)\n",
        "\n",
        "correlation_df = pd.DataFrame(corr)\n",
        "correlation_df_numeric = correlation_df.apply(pd.to_numeric, errors='coerce')\n",
        "size = int(correlation_df.shape[0])\n",
        "\n",
        "results = []\n",
        "\n",
        "for i, col in enumerate(correlation_df_numeric.values):  # Transpose to iterate over columns\n",
        "    max_abs_corr = np.max(np.abs(col[np.arange(len(col)) != i]))  # Exclude diagonal element\n",
        "    print(f\"Property {i}, that is {property_names[i]}, has a max correlation coefficient of {max_abs_corr:.5f}\")\n",
        "    results.append((max_abs_corr, i))\n",
        "\n",
        "sorted_results = sorted(results)\n",
        "print()\n",
        "print()\n",
        "print()\n",
        "for max_abs_corr, i in sorted_results:\n",
        "    property_name = property_names[i]\n",
        "    print(f\"{property_name}, {max_abs_corr:.3f}\")"
      ]
    },
    {
      "cell_type": "code",
      "execution_count": null,
      "metadata": {
        "id": "w71FaRoykWyr"
      },
      "outputs": [],
      "source": [
        "# Before further removal: sort properties by avg absolute correlation coefficient\n",
        "correlation_df = pd.DataFrame(corr)\n",
        "correlation_df_numeric = correlation_df.apply(pd.to_numeric, errors='coerce')\n",
        "size = int(correlation_df.shape[0])\n",
        "\n",
        "results = []\n",
        "\n",
        "for i, col in enumerate(correlation_df_numeric.values):  # Transpose to iterate over columns\n",
        "    avg_abs_corr = np.mean(np.abs(col[np.arange(len(col)) != i]))  # Exclude diagonal element\n",
        "    print(f\"Property {i}, that is {property_names[i]}, has an avg correlation coefficient of {avg_abs_corr:.5f}\")\n",
        "    results.append((avg_abs_corr, i))\n",
        "\n",
        "sorted_results = sorted(results)\n",
        "print()\n",
        "print()\n",
        "print()\n",
        "for avg_abs_corr, i in sorted_results:\n",
        "    property_name = property_names[i]\n",
        "    print(f\"{property_name}, {avg_abs_corr:.3f}\")"
      ]
    },
    {
      "cell_type": "code",
      "execution_count": null,
      "metadata": {
        "id": "3lbvNxy9s5JZ"
      },
      "outputs": [],
      "source": [
        "# Remove strongly correlated variables\n",
        "if DEBUG:\n",
        "    print(\"Removing columns: \", toremove)\n",
        "for c in toremove:\n",
        "    tocrrolate.drop(c, axis=1, inplace=True)\n",
        "\n",
        "# Compute correlation matrix again and plot the correlation heatmap\n",
        "corr = tocrrolate.corr()\n",
        "plt.figure(figsize=(18, 12))\n",
        "heatmap = sns.heatmap(corr, annot=True, cmap='coolwarm', fmt=\".1f\",annot_kws={\"size\": 10})\n",
        "heatmap.set_xticklabels(heatmap.get_xticklabels(), rotation=90)  # Rotate labels for better readability\n",
        "heatmap.xaxis.set_ticks_position('top') # Move the x-axis labels to the top\n",
        "\n",
        "plt.title('Correlation Heatmap')\n",
        "plt.show()"
      ]
    }
  ],
  "metadata": {
    "colab": {
      "provenance": []
    },
    "kernelspec": {
      "display_name": "base",
      "language": "python",
      "name": "python3"
    },
    "language_info": {
      "codemirror_mode": {
        "name": "ipython",
        "version": 3
      },
      "file_extension": ".py",
      "mimetype": "text/x-python",
      "name": "python",
      "nbconvert_exporter": "python",
      "pygments_lexer": "ipython3",
      "version": "3.9.12"
    }
  },
  "nbformat": 4,
  "nbformat_minor": 0
}
