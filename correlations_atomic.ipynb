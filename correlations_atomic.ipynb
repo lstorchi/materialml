{
  "cells": [
    {
      "cell_type": "markdown",
      "metadata": {
        "colab_type": "text",
        "id": "view-in-github"
      },
      "source": [
        "<a href=\"https://colab.research.google.com/github/lstorchi/materialml/blob/main/correlations_atomic.ipynb\" target=\"_parent\"><img src=\"https://colab.research.google.com/assets/colab-badge.svg\" alt=\"Open In Colab\"/></a>"
      ]
    },
    {
      "cell_type": "code",
      "execution_count": null,
      "metadata": {
        "id": "jG6FzWYYYg2w"
      },
      "outputs": [],
      "source": [
        "import pandas as pd\n",
        "\n",
        "# Load the Excel file into a DataFrame\n",
        "file_path = './data/alldata.xlsx'\n",
        "props = pd.read_excel(file_path)"
      ]
    },
    {
      "cell_type": "code",
      "execution_count": null,
      "metadata": {
        "id": "1j6yPectbSOr"
      },
      "outputs": [],
      "source": [
        "props"
      ]
    },
    {
      "cell_type": "code",
      "execution_count": null,
      "metadata": {
        "id": "IR_vxAUfZM7C"
      },
      "outputs": [],
      "source": [
        "# Compute the correlation matrix\n",
        "correlation_matrix = props.corr()\n",
        "\n",
        "pd.set_option('display.max_columns', None)  # Display all columns\n",
        "pd.set_option('display.expand_frame_repr', False)  # Do not wrap DataFrame across multiple lines\n",
        "pd.set_option('display.width', None)  # Adjust width to fit DataFrame\n",
        "\n",
        "print(\"Correlation Matrix:\")\n",
        "print(correlation_matrix)"
      ]
    },
    {
      "cell_type": "code",
      "execution_count": null,
      "metadata": {
        "id": "mNsEay4Vu7AB"
      },
      "outputs": [],
      "source": [
        "import seaborn as sns\n",
        "import matplotlib.pyplot as plt\n",
        "from matplotlib.colors import LinearSegmentedColormap\n",
        "import numpy as np\n",
        "\n",
        "plt.figure(figsize=(25, 20))\n",
        "\n",
        "def custom_color_function(x):\n",
        "    # Define your color mapping logic here\n",
        "    # For example, let's create a colormap that transitions from blue to white to red\n",
        "    blue = (0, 0, 1)   # RGB values for blue\n",
        "    white = (1, 1, 1)  # RGB values for white\n",
        "    red = (1, 0, 0)    # RGB values for red\n",
        "\n",
        "    # Define the transition points\n",
        "    white_start = 0.2\n",
        "    white_end = 0.8\n",
        "\n",
        "    if x < white_start:\n",
        "        # Interpolate between blue and white for x values less than white_start\n",
        "        r = blue[0] + (white[0] - blue[0]) * x / white_start\n",
        "        g = blue[1] + (white[1] - blue[1]) * x / white_start\n",
        "        b = blue[2] + (white[2] - blue[2]) * x / white_start\n",
        "    elif x < white_end:\n",
        "        # Use white for x values between white_start and white_end\n",
        "        r, g, b = white\n",
        "    else:\n",
        "        # Interpolate between white and red for x values greater than white_end\n",
        "        r = white[0] + (red[0] - white[0]) * (x - white_end) / (1 - white_end)\n",
        "        g = white[1] + (red[1] - white[1]) * (x - white_end) / (1 - white_end)\n",
        "        b = white[2] + (red[2] - white[2]) * (x - white_end) / (1 - white_end)\n",
        "\n",
        "    return (r, g, b)  # Return the RGB tuple for the color at each point\n",
        "\n",
        "# Create a colormap using the custom color function\n",
        "cmap = LinearSegmentedColormap.from_list('custom', [custom_color_function(i) for i in np.linspace(0, 1, 256)])\n",
        "\n",
        "mask = np.logical_not(np.triu(np.ones_like(correlation_matrix, dtype=bool)))\n",
        "\n",
        "# Assuming correlation_matrix is your DataFrame containing the correlation matrix\n",
        "heatmap = sns.heatmap(correlation_matrix, mask=mask, annot=True, cmap=cmap, fmt=\".1f\", annot_kws={\"size\": 10})\n",
        "\n",
        "# Move the x-axis labels to the top\n",
        "heatmap.set_xticklabels(heatmap.get_xticklabels(), rotation=90)  # Rotate labels for better readability\n",
        "heatmap.xaxis.set_ticks_position('top')\n",
        "\n",
        "# Clone the heatmap and move the x-axis labels to the bottom\n",
        "heatmap_bottom = heatmap.twinx()\n",
        "heatmap_bottom.set_xticklabels(heatmap.get_xticklabels(), rotation=90)\n",
        "heatmap_bottom.xaxis.set_ticks_position('bottom')\n",
        "\n",
        "\n",
        "\n",
        "plt.title('Correlation Heatmap')\n",
        "plt.show()\n"
      ]
    },
    {
      "cell_type": "code",
      "execution_count": null,
      "metadata": {
        "id": "cQHLStV20jsB"
      },
      "outputs": [],
      "source": [
        "plt.figure(figsize=(25, 20))\n",
        "\n",
        "mask = np.logical_not(np.triu(np.ones_like(correlation_matrix, dtype=bool)))\n",
        "\n",
        "# Assuming correlation_matrix is your DataFrame containing the correlation matrix\n",
        "heatmap = sns.heatmap(correlation_matrix, mask=mask, annot=True, cmap='coolwarm', fmt=\".1f\", annot_kws={\"size\": 10})\n",
        "\n",
        "# Move the x-axis labels to the top\n",
        "heatmap.set_xticklabels(heatmap.get_xticklabels(), rotation=90)  # Rotate labels for better readability\n",
        "heatmap.xaxis.set_ticks_position('top')\n",
        "\n",
        "# Clone the heatmap and move the x-axis labels to the bottom\n",
        "heatmap_bottom = heatmap.twinx()\n",
        "heatmap_bottom.set_xticklabels(heatmap.get_xticklabels(), rotation=90)\n",
        "heatmap_bottom.xaxis.set_ticks_position('bottom')\n",
        "\n",
        "\n",
        "\n",
        "plt.title('Correlation Heatmap')\n",
        "plt.show()\n"
      ]
    },
    {
      "cell_type": "code",
      "execution_count": null,
      "metadata": {
        "id": "-W4AzbTnQdJg"
      },
      "outputs": [],
      "source": [
        "# Convert the data type of the DataFrame to numeric\n",
        "props_numeric = props.apply(pd.to_numeric, errors='coerce')\n",
        "\n",
        "# Extract the property names from the column names of the DataFrame\n",
        "property_names = props_numeric.columns\n",
        "property_names = list(property_names)\n",
        "\n",
        "correlation_df = pd.DataFrame(correlation_matrix)\n",
        "\n",
        "# Convert the data type of the DataFrame to numeric\n",
        "correlation_df_numeric = correlation_df.apply(pd.to_numeric, errors='coerce')\n",
        "\n",
        "# Set the threshold for the maximum correlation coefficient\n",
        "threshold = 0.8\n",
        "print(\"Threshold: \",threshold)\n",
        "print(\"Property, max corr \")\n",
        "\n",
        "for i, col in enumerate(correlation_df_numeric.values.T):  # Transpose to iterate over columns\n",
        "    max_corr = np.max(np.abs(col[np.arange(len(col)) != i]))  # Exclude diagonal element\n",
        "    if not np.isnan(max_corr) and max_corr <= threshold:\n",
        "        #print(f\"Property {i}, that is {property_names[i]}, has a maximum correlation coefficient of {max_corr:.2f}\")\n",
        "        print(f\"{property_names[i]}, {max_corr:.2f}\")"
      ]
    },
    {
      "cell_type": "code",
      "execution_count": null,
      "metadata": {
        "id": "PHifomymTNxh"
      },
      "outputs": [],
      "source": [
        "import numpy as np\n",
        "import pandas as pd\n",
        "\n",
        "# Convert the data type of the DataFrame to numeric\n",
        "props_numeric = props.apply(pd.to_numeric, errors='coerce')\n",
        "# Extract the property names from the column names of the DataFrame\n",
        "property_names = props_numeric.columns\n",
        "property_names = list(property_names)\n",
        "\n",
        "correlation_df = pd.DataFrame(correlation_matrix)\n",
        "correlation_df_numeric = correlation_df.apply(pd.to_numeric, errors='coerce')\n",
        "size = int(correlation_df.shape[0])\n",
        "\n",
        "results = []\n",
        "\n",
        "# method one\n",
        "for i, col in enumerate(correlation_df_numeric.values):  # Transpose to iterate over columns\n",
        "    avg_abs_corr = np.mean(np.abs(col[np.arange(len(col)) != i]))  # Exclude diagonal element\n",
        "    print(f\"Property {i}, that is {property_names[i]}, has an average correlation coefficient of {avg_abs_corr:.5f}\")\n",
        "    results.append((avg_abs_corr, i))\n",
        "\n",
        "# manual\n",
        "#for i in range(0,size):\n",
        "    #row = correlation_df_numeric.iloc[i]\n",
        "    #row_array = row.values\n",
        "    #abs_row_array = np.abs(row_array)\n",
        "    #if(i<=18):\n",
        "       #print(i, property_names[i], \"                        \", row_array[0], row_array[1], row_array[2])\n",
        "    #array_sum = np.sum(np.abs(row_array))\n",
        "    #print(f\"Property {i}, that is {property_names[i]}, has a sum of {array_sum:.5f}\")\n",
        "    #avg_abs_corr = np.mean(np.abs(np.delete(row_array, i)))  # Exclude diagonal element\n",
        "    #print(f\"Property {i}, that is {property_names[i]}, has an average correlation coefficient of {avg_abs_corr:.5f}\")\n",
        "    #results.append((avg_abs_corr, i))\n",
        "\n",
        "sorted_results = sorted(results)\n",
        "print()\n",
        "print()\n",
        "print()\n",
        "for avg_abs_corr, i in sorted_results:\n",
        "    property_name = property_names[i]\n",
        "    #print(f\"Property {i}, that is {property_name}, has an average correlation coefficient of {avg_abs_corr:.3f}\")\n",
        "    print(f\"{property_name}, {avg_abs_corr:.3f}\")\n",
        "\n",
        "################ TO ORDER THEM\n",
        "#results = []\n",
        "#for i, col in enumerate(correlation_df_numeric.values.T):  # Transpose to iterate over columns\n",
        "    #avg_abs_corr = np.mean(np.abs(col[np.arange(len(col)) != i]))  # Exclude diagonal element\n",
        "    #results.append((avg_abs_corr, i))\n",
        "\n",
        "#sorted_results = sorted(results)\n",
        "\n",
        "#for avg_abs_corr, i in sorted_results:\n",
        "    #property_name = property_names[i]\n",
        "    #print(f\"Property {i}, that is {property_name}, has an average correlation coefficient of {avg_abs_corr:.3f}\")\n",
        "\n"
      ]
    },
    {
      "cell_type": "code",
      "execution_count": null,
      "metadata": {
        "collapsed": true,
        "id": "bLAZyG_EEgOQ"
      },
      "outputs": [],
      "source": [
        "# Convert the data type of the DataFrame to numeric\n",
        "props_numeric = props.apply(pd.to_numeric, errors='coerce')\n",
        "# Extract the property names from the column names of the DataFrame\n",
        "property_names = props_numeric.columns\n",
        "property_names = list(property_names)\n",
        "\n",
        "correlation_df = pd.DataFrame(correlation_matrix)\n",
        "correlation_df_numeric = correlation_df.apply(pd.to_numeric, errors='coerce')\n",
        "size = int(correlation_df.shape[0])\n",
        "\n",
        "results = []\n",
        "\n",
        "# method one\n",
        "for i, col in enumerate(correlation_df_numeric.values):  # Transpose to iterate over columns\n",
        "    max_abs_corr = np.max(np.abs(col[np.arange(len(col)) != i]))  # Exclude diagonal element\n",
        "    print(f\"Property {i}, that is {property_names[i]}, has a max correlation coefficient of {max_abs_corr:.5f}\")\n",
        "    results.append((max_abs_corr, i))\n",
        "\n",
        "sorted_results = sorted(results)\n",
        "print()\n",
        "print()\n",
        "print()\n",
        "for max_abs_corr, i in sorted_results:\n",
        "    property_name = property_names[i]\n",
        "    #print(f\"Property {i}, that is {property_name}, has an average correlation coefficient of {avg_abs_corr:.3f}\")\n",
        "    print(f\"{property_name}, {max_abs_corr:.3f}\")"
      ]
    }
  ],
  "metadata": {
    "colab": {
      "authorship_tag": "ABX9TyM8eVn9JsAAq5dtf3gcINLo",
      "include_colab_link": true,
      "provenance": []
    },
    "kernelspec": {
      "display_name": "Python 3",
      "name": "python3"
    },
    "language_info": {
      "codemirror_mode": {
        "name": "ipython",
        "version": 3
      },
      "file_extension": ".py",
      "mimetype": "text/x-python",
      "name": "python",
      "nbconvert_exporter": "python",
      "pygments_lexer": "ipython3",
      "version": "3.9.12"
    }
  },
  "nbformat": 4,
  "nbformat_minor": 0
}
