{
 "cells": [
  {
   "cell_type": "code",
   "execution_count": null,
   "metadata": {},
   "outputs": [],
   "source": [
    "import pandas as pd\n",
    "import numpy as np\n",
    "import matplotlib.pyplot as plt\n",
    "import seaborn as sns\n",
    "import os\n",
    "\n",
    "# Load the data\n",
    "descriports = pd.read_csv('./data/descriptors_template.csv', index_col=0)\n",
    "\n",
    "\n",
    "\n",
    "\n",
    "fp = open(\"./data/list_structural_descriptors.txt\", \"r\")\n",
    "descdetails = {}\n",
    "for l in fp:\n",
    "    k = l.split(\":\")[0].replace(\"\\\"\", \"\")\n",
    "    v = l.split(\":\")[1].replace(\"\\n\", \"\").replace(\"#\", \"\")\n",
    "    descdetails[k] = v\n",
    "fp.close()\n",
    "\n",
    "print(descriports.columns)"
   ]
  },
  {
   "cell_type": "code",
   "execution_count": null,
   "metadata": {},
   "outputs": [],
   "source": [
    "nonvalues = ['label_structure', 'composition_pretty', 'A-site', 'B-site']\n",
    "for c in nonvalues:\n",
    "    print(descriports[c].value_counts())\n",
    "    print(descriports[c].unique())"
   ]
  },
  {
   "cell_type": "code",
   "execution_count": null,
   "metadata": {},
   "outputs": [],
   "source": [
    "#remove constant columns\n",
    "for c in descriports.columns:    \n",
    "    if len(descriports[c].unique()) == 1:\n",
    "        print(\"Removing constant column: \", c)\n",
    "        descriports.drop(c, axis=1, inplace=True)"
   ]
  },
  {
   "cell_type": "code",
   "execution_count": null,
   "metadata": {},
   "outputs": [],
   "source": [
    "corrcut = 0.90\n",
    "tocrrolate = {}\n",
    "for c in descriports.columns:\n",
    "    if c not in nonvalues:\n",
    "        tocrrolate[c] = descriports[c].astype(np.float64).values\n",
    "\n",
    "# Correlation matrix\n",
    "toremove = set()\n",
    "basicdescr = set()\n",
    "tocrrolate = pd.DataFrame(tocrrolate)\n",
    "corr = tocrrolate.corr().abs()\n",
    "for c in corr.columns:\n",
    "    print(c)\n",
    "    basicdescr.add(c)\n",
    "    for cc in corr.columns:\n",
    "        if corr[c][cc] > corrcut and c != cc and  \\\n",
    "           cc not in basicdescr:\n",
    "            print(\"\\t %20s %7.3f\"%(cc, corr[c][cc]))\n",
    "            toremove.add(cc)\n"
   ]
  },
  {
   "cell_type": "code",
   "execution_count": null,
   "metadata": {},
   "outputs": [],
   "source": [
    "print(\"Removing columns: \", toremove)\n",
    "for c in toremove:\n",
    "    tocrrolate.drop(c, axis=1, inplace=True)\n",
    "\n",
    "# Plot the correlation matrix\n",
    "corr = tocrrolate.corr()\n",
    "plt.figure(figsize=(20, 20))\n",
    "sns.heatmap(corr, annot=True, cmap='coolwarm', fmt=\".2f\")"
   ]
  }
 ],
 "metadata": {
  "kernelspec": {
   "display_name": "base",
   "language": "python",
   "name": "python3"
  },
  "language_info": {
   "codemirror_mode": {
    "name": "ipython",
    "version": 3
   },
   "file_extension": ".py",
   "mimetype": "text/x-python",
   "name": "python",
   "nbconvert_exporter": "python",
   "pygments_lexer": "ipython3",
   "version": "3.9.12"
  }
 },
 "nbformat": 4,
 "nbformat_minor": 2
}
